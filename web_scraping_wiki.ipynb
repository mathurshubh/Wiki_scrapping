{
 "cells": [
  {
   "cell_type": "code",
   "execution_count": 2,
   "metadata": {
    "scrolled": true
   },
   "outputs": [
    {
     "name": "stdout",
     "output_type": "stream",
     "text": [
      "Requirement already satisfied: stop-words in ./anaconda3/lib/python3.7/site-packages (2018.7.23)\n",
      "Requirement already satisfied: tabulate in ./anaconda3/lib/python3.7/site-packages (0.8.3)\n"
     ]
    }
   ],
   "source": [
    "! pip install stop-words\n",
    "! pip install tabulate"
   ]
  },
  {
   "cell_type": "code",
   "execution_count": 3,
   "metadata": {},
   "outputs": [],
   "source": [
    "#Libraries"
   ]
  },
  {
   "cell_type": "code",
   "execution_count": 4,
   "metadata": {},
   "outputs": [],
   "source": [
    "#import dependencies\n",
    "\n",
    "from bs4 import BeautifulSoup\n",
    "import requests\n",
    "import re\n",
    "import operator\n",
    "import json\n",
    "from tabulate import tabulate\n",
    "import sys\n",
    "from stop_words import get_stop_words\n"
   ]
  },
  {
   "cell_type": "code",
   "execution_count": 5,
   "metadata": {},
   "outputs": [],
   "source": [
    "#Functions for Scraping"
   ]
  },
  {
   "cell_type": "code",
   "execution_count": 6,
   "metadata": {},
   "outputs": [],
   "source": [
    "#get the words\n",
    "\n",
    "def getWordList(url):\n",
    "    word_list = []\n",
    "    \n",
    "    #raw data\n",
    "    source_code = requests.get(url)\n",
    "    \n",
    "    #convert to text\n",
    "    plain_text = source_code.text\n",
    "    \n",
    "    #lxml format\n",
    "    soup = BeautifulSoup(plain_text, 'lxml')\n",
    "    \n",
    "    #find the words in paragraph tag\n",
    "    for text in soup.findAll('p'):\n",
    "        if text.text is None:\n",
    "            continue\n",
    "        content = text.text\n",
    "        #lowercase and split into an array\n",
    "        words = content.lower().split()\n",
    "        \n",
    "        for word in words:\n",
    "            #remove non-chars\n",
    "            cleaned_word = clean_word(word)\n",
    "            #if there is still something there\n",
    "            if len(cleaned_word) > 0:\n",
    "                #add it to our word list\n",
    "                word_list.append(cleaned_word)\n",
    "        \n",
    "    return word_list\n",
    "\n",
    "\n",
    "def createFrequencyTable(word_list):\n",
    "    word_count = {}\n",
    "    for word in word_list:\n",
    "        if word in word_count:\n",
    "            word_count[word] += 1\n",
    "        else:\n",
    "            word_count[word] = 1\n",
    "            \n",
    "    return word_count\n",
    "    "
   ]
  },
  {
   "cell_type": "code",
   "execution_count": 7,
   "metadata": {},
   "outputs": [],
   "source": [
    "#Functions for cleaning text"
   ]
  },
  {
   "cell_type": "code",
   "execution_count": 8,
   "metadata": {},
   "outputs": [],
   "source": [
    "#clean word with regex\n",
    "\n",
    "def clean_word(word):\n",
    "    cleaned_word = re.sub('[^A-Za-z]+','',word)\n",
    "    return cleaned_word\n",
    "\n",
    "#remove stop words\n",
    "def remove_stop_words(frequency_list):\n",
    "    stop_words = get_stop_words('en')\n",
    "    \n",
    "    temp_list = []\n",
    "    for key,value in frequency_list:\n",
    "        if key not in stop_words:\n",
    "            temp_list.append([key, value])\n",
    "            \n",
    "    return temp_list\n"
   ]
  },
  {
   "cell_type": "code",
   "execution_count": 12,
   "metadata": {},
   "outputs": [
    {
     "name": "stdout",
     "output_type": "stream",
     "text": [
      "| Word       |   Frequency |   Frequency Percentage |\n",
      "|------------+-------------+------------------------|\n",
      "| womens     |           4 |                 1.6878 |\n",
      "| mary       |           4 |                 1.6878 |\n",
      "| united     |           3 |                 1.2658 |\n",
      "| states     |           3 |                 1.2658 |\n",
      "| entombment |           3 |                 1.2658 |\n",
      "| painting   |           3 |                 1.2658 |\n",
      "| christ     |           3 |                 1.2658 |\n",
      "| altarpiece |           3 |                 1.2658 |\n",
      "| world      |           2 |                 0.8439 |\n",
      "| edition    |           2 |                 0.8439 |\n",
      "| national   |           2 |                 0.8439 |\n",
      "| teams      |           2 |                 0.8439 |\n",
      "| football   |           2 |                 0.8439 |\n",
      "| hosted     |           2 |                 0.8439 |\n",
      "| july       |           2 |                 0.8439 |\n",
      "| venues     |           2 |                 0.8439 |\n",
      "| first      |           2 |                 0.8439 |\n",
      "| match      |           2 |                 0.8439 |\n",
      "| played     |           2 |                 0.8439 |\n",
      "| large      |           2 |                 0.8439 |\n"
     ]
    }
   ],
   "source": [
    "#get data from Wikipedia\n",
    "\n",
    "wikipedia_api_link = \"https://en.wikipedia.org/w/api.php?format=json&action=query&list=search&srsearch=\"\n",
    "wikipedia_link = \"https://en.wikipedia.org/wiki\"\n",
    "\n",
    "if(len(sys.argv) < 2):\n",
    "    print('Enter valid string')\n",
    "    exit()\n",
    "    \n",
    "#get the search word\n",
    "string_query = sys.argv[1]\n",
    "\n",
    "if(len(sys.argv) > 2):\n",
    "    search_mode = True\n",
    "else:\n",
    "    search_mode = False\n",
    "    \n",
    "#create our URL\n",
    "url = wikipedia_api_link + string_query\n",
    "\n",
    "try:\n",
    "    response = requests.get(url)\n",
    "    data = json.loads(response.content.decode('utf-8'))\n",
    "    \n",
    "    #format this data\n",
    "    wikipedia_page_tag = data['query']['search'][0]['title']\n",
    "    \n",
    "    #create our new url\n",
    "    url = wikipedia_link + wikipedia_page_tag\n",
    "    page_word_list = getWordList(url)\n",
    "    \n",
    "    #create table of word counts\n",
    "    page_word_count = createFrequencyTable(page_word_list)\n",
    "    sorted_word_frequency_list = sorted(page_word_count.items(), key = operator.itemgetter(1), reverse = True)\n",
    "    \n",
    "    #remove stop words\n",
    "    if(search_mode):\n",
    "        sorted_word_frequency_list = remove_stop_words(sorted_word_frequency_list)\n",
    "    \n",
    "    #sum the total words to calculate the frequencies\n",
    "    total_words_sum = 0 \n",
    "    for key, value in sorted_word_frequency_list:\n",
    "        total_words_sum += value\n",
    "        \n",
    "    #get the top 20 words\n",
    "    if len(sorted_word_frequency_list) > 20: \n",
    "        sorted_word_frequency_list = sorted_word_frequency_list[:20]\n",
    "        \n",
    "        \n",
    "    #create our final list, words + frequency + percentage\n",
    "    final_list = []\n",
    "    for key, value in sorted_word_frequency_list:\n",
    "        percentage_value = float(value * 100) / total_words_sum\n",
    "        final_list.append([key, value, round(percentage_value, 4)])\n",
    "        \n",
    "    #headers before the table\n",
    "    print_headers = ['Word', 'Frequency', 'Frequency Percentage']\n",
    "    \n",
    "    #print the table with tabulate\n",
    "    print(tabulate(final_list, headers = print_headers, tablefmt = 'orgtbl'))\n",
    "\n",
    "#throw an exception in case it breaks\n",
    "except requests.exceptions.Timeout:\n",
    "    print(\"The server didn't respond. Please try again later.\")"
   ]
  },
  {
   "cell_type": "code",
   "execution_count": null,
   "metadata": {},
   "outputs": [],
   "source": []
  },
  {
   "cell_type": "code",
   "execution_count": null,
   "metadata": {},
   "outputs": [],
   "source": []
  }
 ],
 "metadata": {
  "kernelspec": {
   "display_name": "Python 3",
   "language": "python",
   "name": "python3"
  },
  "language_info": {
   "codemirror_mode": {
    "name": "ipython",
    "version": 3
   },
   "file_extension": ".py",
   "mimetype": "text/x-python",
   "name": "python",
   "nbconvert_exporter": "python",
   "pygments_lexer": "ipython3",
   "version": "3.7.3"
  }
 },
 "nbformat": 4,
 "nbformat_minor": 2
}
